{
 "cells": [
  {
   "cell_type": "markdown",
   "id": "62c0adbc",
   "metadata": {},
   "source": [
    "# Astrononmy 19 Final Project\n",
    "\n",
    "Group members: Sabi Abraham, April Ewers, Aditya Singh, Jaden Patrick Tanyao\n",
    "\n",
    "Repository link: https://github.com/TechnoPangolin/ASTR-19-2-FINAL \n",
    "Submission document: https://docs.google.com/document/d/1SqOGh9XX9saNt5fEedSLPfw6TFOLC9DE/edit?usp=sharing&ouid=116023239842182664539&rtpof=true&sd=true"
   ]
  },
  {
   "cell_type": "code",
   "execution_count": null,
   "id": "56bc709e",
   "metadata": {},
   "outputs": [],
   "source": [
    "import matplotlib.pyplot as plt\n",
    "import numpy as np\n",
    "import scipy"
   ]
  },
  {
   "cell_type": "code",
   "execution_count": 40,
   "id": "65354358",
   "metadata": {},
   "outputs": [],
   "source": [
    "#open the file containing the data\n",
    "fname = (\"./55 Cnc RVC 274.txt\")\n",
    "f = open(fname, 'r')\n",
    "\n",
    "#read the data and split it into lines\n",
    "raw = f.read()\n",
    "rawsplit = raw.split(\"\\n\")\n",
    "\n",
    "#initialize an empty array of correct dimensions to hold the data\n",
    "dataRVC = np.empty(shape=(275, 3), dtype='float')\n",
    "#intialize counters\n",
    "x = 0\n",
    "y = 0\n",
    "\n",
    "#read data into usable floats by taking apart each line and extracting the numbers\n",
    "for a in rawsplit:\n",
    "    #ignore the metadata and table header lines\n",
    "    if a[0] != \"\\\\\" and a[0] != \"|\":\n",
    "        #split apart the line on spaces\n",
    "        b = a.split(\" \")\n",
    "        for c in b:\n",
    "            #ignore all the lines containing only spaces or null\n",
    "            if c != \" \" and c != \"\":\n",
    "                #cast to float and assign the data to the correct array position  \n",
    "                dataRVC[x, y] = float(c)\n",
    "                #step the counter for this line\n",
    "                y += 1\n",
    "        #step the overall counter\n",
    "        x += 1\n",
    "        #reset the line counter\n",
    "        y = 0"
   ]
  }
 ],
 "metadata": {
  "kernelspec": {
   "display_name": "Python 3",
   "language": "python",
   "name": "python3"
  },
  "language_info": {
   "codemirror_mode": {
    "name": "ipython",
    "version": 3
   },
   "file_extension": ".py",
   "mimetype": "text/x-python",
   "name": "python",
   "nbconvert_exporter": "python",
   "pygments_lexer": "ipython3",
   "version": "3.13.2"
  }
 },
 "nbformat": 4,
 "nbformat_minor": 5
}
